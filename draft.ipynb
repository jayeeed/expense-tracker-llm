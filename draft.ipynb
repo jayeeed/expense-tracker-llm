{
 "cells": [
  {
   "cell_type": "code",
   "execution_count": 110,
   "metadata": {},
   "outputs": [],
   "source": [
    "from typing import Optional\n",
    "from pydantic import Field\n",
    "from typing_extensions import TypedDict\n",
    "\n",
    "\n",
    "class ExpenseSchema(TypedDict):\n",
    "    date: str\n",
    "    amount: int\n",
    "    category: str\n",
    "    description: Optional[str]\n",
    "\n",
    "\n",
    "tools = [ExpenseSchema]"
   ]
  },
  {
   "cell_type": "code",
   "execution_count": 111,
   "metadata": {},
   "outputs": [],
   "source": [
    "from langchain_ollama import ChatOllama\n",
    "\n",
    "llm = ChatOllama(model=\"llama3.2:1b\")\n",
    "llm_tools = llm.bind_tools(tools)"
   ]
  },
  {
   "cell_type": "code",
   "execution_count": 112,
   "metadata": {},
   "outputs": [
    {
     "name": "stdout",
     "output_type": "stream",
     "text": [
      "{'amount': 1000, 'category': 'General', 'date': '2024-12-22', 'description': 'No description'}\n"
     ]
    }
   ],
   "source": [
    "from datetime import datetime\n",
    "\n",
    "user_input = \"I spent 1000 taka on groceries\"\n",
    "\n",
    "res = llm_tools.invoke(user_input).tool_calls[0][\"args\"]\n",
    "res[\"date\"] = datetime.now().strftime(\"%Y-%m-%d\")\n",
    "\n",
    "# Replace null values with \"Null\"\n",
    "if not res.get(\"category\"):\n",
    "    res[\"category\"] = \"General\"\n",
    "if not res.get(\"description\"):\n",
    "    res[\"description\"] = \"No description\"\n",
    "\n",
    "print(res)"
   ]
  },
  {
   "cell_type": "code",
   "execution_count": 116,
   "metadata": {},
   "outputs": [
    {
     "name": "stdout",
     "output_type": "stream",
     "text": [
      "{'amount': 1000, 'category': 'General', 'date': '2024-12-22', 'description': 'No description'}\n"
     ]
    }
   ],
   "source": [
    "if res[\"category\"] == \"General\" and res[\"description\"] == \"No description\":\n",
    "    final = llm_tools.invoke(\n",
    "        f\"{res} \\nreview and refine this list according to initial input:\\n{user_input}.\"\n",
    "    ).tool_calls[0][\"args\"]\n",
    "else:\n",
    "    final = res\n",
    "\n",
    "print(final)"
   ]
  },
  {
   "cell_type": "code",
   "execution_count": null,
   "metadata": {},
   "outputs": [],
   "source": []
  }
 ],
 "metadata": {
  "kernelspec": {
   "display_name": ".venv",
   "language": "python",
   "name": "python3"
  },
  "language_info": {
   "codemirror_mode": {
    "name": "ipython",
    "version": 3
   },
   "file_extension": ".py",
   "mimetype": "text/x-python",
   "name": "python",
   "nbconvert_exporter": "python",
   "pygments_lexer": "ipython3",
   "version": "3.12.6"
  }
 },
 "nbformat": 4,
 "nbformat_minor": 2
}
