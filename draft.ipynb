{
 "cells": [
  {
   "cell_type": "code",
   "execution_count": 1,
   "metadata": {},
   "outputs": [
    {
     "name": "stdout",
     "output_type": "stream",
     "text": [
      " The image shows a receipt with the following details:\n",
      "\n",
      "- Date: February 16, 2023.\n",
      "- Amount: $85.00.\n",
      "- Category: Not visible in the provided image.\n",
      "- Description: Not visible in the provided image.\n",
      "\n",
      "Please note that while the date and amount are clearly visible, the category and description fields appear to be obscured or not fully disclosed in this specific image. \n"
     ]
    }
   ],
   "source": [
    "import ollama\n",
    "\n",
    "res = ollama.chat(\n",
    "    model=\"llava:latest\",\n",
    "    messages=[\n",
    "        {\n",
    "            \"role\": \"user\",\n",
    "            \"content\": \"Extract date, amount, category, description from this image:\",\n",
    "            \"images\": [\"./receipt.png\"],\n",
    "        }\n",
    "    ],\n",
    ")\n",
    "\n",
    "print(res[\"message\"][\"content\"])"
   ]
  }
 ],
 "metadata": {
  "kernelspec": {
   "display_name": ".venv",
   "language": "python",
   "name": "python3"
  },
  "language_info": {
   "codemirror_mode": {
    "name": "ipython",
    "version": 3
   },
   "file_extension": ".py",
   "mimetype": "text/x-python",
   "name": "python",
   "nbconvert_exporter": "python",
   "pygments_lexer": "ipython3",
   "version": "3.12.6"
  }
 },
 "nbformat": 4,
 "nbformat_minor": 2
}
