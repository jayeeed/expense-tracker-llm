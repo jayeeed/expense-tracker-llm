{
 "cells": [
  {
   "cell_type": "code",
   "execution_count": 1,
   "metadata": {},
   "outputs": [],
   "source": [
    "from langchain_ollama import OllamaEmbeddings\n",
    "\n",
    "embed = OllamaEmbeddings(model=\"llama3.2:1b\")"
   ]
  },
  {
   "cell_type": "code",
   "execution_count": 2,
   "metadata": {},
   "outputs": [
    {
     "name": "stdout",
     "output_type": "stream",
     "text": [
      "[-0.0064833546, 0.044403974, 0.017091589]\n"
     ]
    }
   ],
   "source": [
    "input_text = \"The meaning of life is 42\"\n",
    "vector = embed.embed_query(input_text)\n",
    "print(vector[:3])"
   ]
  },
  {
   "cell_type": "code",
   "execution_count": 3,
   "metadata": {},
   "outputs": [
    {
     "name": "stdout",
     "output_type": "stream",
     "text": [
      "2\n",
      "[-0.030706434, 0.033113766, 0.0015737697]\n"
     ]
    }
   ],
   "source": [
    "input_texts = [\"Document 1...\", \"Document 2...\"]\n",
    "vectors = embed.embed_documents(input_texts)\n",
    "print(len(vectors))\n",
    "# The first 3 coordinates for the first vector\n",
    "print(vectors[0][:3])"
   ]
  },
  {
   "cell_type": "code",
   "execution_count": 5,
   "metadata": {},
   "outputs": [],
   "source": [
    "from langchain_qdrant import QdrantVectorStore\n",
    "from qdrant_client import QdrantClient\n",
    "from qdrant_client.http.models import Distance, VectorParams\n",
    "from langchain_ollama import OllamaEmbeddings\n",
    "\n",
    "import os\n",
    "\n",
    "# Initialize Qdrant client\n",
    "client = QdrantClient(url=os.getenv(\"QDRANT_URL\"), api_key=os.getenv(\"QDRANT_API_KEY\"))\n",
    "\n",
    "\n",
    "def initialize_qdrant():\n",
    "    client.create_collection(\n",
    "        collection_name=\"expenses\",\n",
    "        vectors_config=VectorParams(size=768, distance=Distance.COSINE),\n",
    "    )\n",
    "\n",
    "\n",
    "vector_store = QdrantVectorStore(\n",
    "    client=client,\n",
    "    collection_name=\"expenses\",\n",
    "    embedding=OllamaEmbeddings(model=\"nomic-embed-text\"),\n",
    ")"
   ]
  },
  {
   "cell_type": "code",
   "execution_count": null,
   "metadata": {},
   "outputs": [
    {
     "name": "stdout",
     "output_type": "stream",
     "text": [
      "* 545 spent on coffee, description: 545 on coffee mirpur [{'_id': 'c9ea556f-ced7-41ac-b00a-fe4a999bb805', '_collection_name': 'expenses'}]\n",
      "* 523 spent on wine, description: bd [{'_id': 'bbaf7d63-639f-4290-8db9-d52765a31a0d', '_collection_name': 'expenses'}]\n"
     ]
    }
   ],
   "source": [
    "results = vector_store.similarity_search(query=\"545\", k=2)\n",
    "for doc in results:\n",
    "    print(f\"* {doc.page_content} [{doc.metadata}]\")"
   ]
  },
  {
   "cell_type": "code",
   "execution_count": 18,
   "metadata": {},
   "outputs": [
    {
     "name": "stdout",
     "output_type": "stream",
     "text": [
      "['545 spent on coffee, description: 545 on coffee mirpur']\n"
     ]
    }
   ],
   "source": [
    "results = vector_store.similarity_search(query=\"545\", k=1)\n",
    "print([result.page_content for result in results])"
   ]
  },
  {
   "cell_type": "markdown",
   "metadata": {},
   "source": []
  }
 ],
 "metadata": {
  "kernelspec": {
   "display_name": ".venv",
   "language": "python",
   "name": "python3"
  },
  "language_info": {
   "codemirror_mode": {
    "name": "ipython",
    "version": 3
   },
   "file_extension": ".py",
   "mimetype": "text/x-python",
   "name": "python",
   "nbconvert_exporter": "python",
   "pygments_lexer": "ipython3",
   "version": "3.12.6"
  }
 },
 "nbformat": 4,
 "nbformat_minor": 2
}
