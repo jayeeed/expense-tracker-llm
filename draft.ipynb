{
 "cells": [
  {
   "cell_type": "code",
   "execution_count": null,
   "metadata": {},
   "outputs": [],
   "source": [
    "import ollama\n",
    "\n",
    "res = ollama.chat(\n",
    "    model=\"llava:latest\",\n",
    "    messages=[\n",
    "        {\n",
    "            \"role\": \"user\",\n",
    "            \"content\": \"Extract date, amount, category, description from this image:\",\n",
    "            \"images\": [\"./receipt.png\"],\n",
    "        }\n",
    "    ],\n",
    ")\n",
    "\n",
    "print(res[\"message\"][\"content\"])"
   ]
  },
  {
   "cell_type": "code",
   "execution_count": 3,
   "metadata": {},
   "outputs": [],
   "source": [
    "from typing import Optional\n",
    "from typing_extensions import Annotated, TypedDict\n",
    "\n",
    "\n",
    "class ExpenseSchema(TypedDict):\n",
    "    date: Annotated[str, ..., \"Date of the expense. e.g. 2024-12-01\"]\n",
    "    amount: Annotated[\n",
    "        int,\n",
    "        ...,\n",
    "        \"Amount of the expense. e.g. 100, 200, 500, etc. Ignore non-numeric characters.\",\n",
    "    ]\n",
    "    category: Annotated[\n",
    "        str, ..., \"Type of category for the expense. e.g. Food, Travel, Groceries, etc.\"\n",
    "    ]\n",
    "    description: Annotated[\n",
    "        Optional[str],\n",
    "        ...,\n",
    "        \"Short summary of the expense e.g. Lunch at Banani.\",\n",
    "    ]\n",
    "\n",
    "\n",
    "tools = [ExpenseSchema]"
   ]
  },
  {
   "cell_type": "code",
   "execution_count": 4,
   "metadata": {},
   "outputs": [],
   "source": [
    "from langchain_ollama import ChatOllama\n",
    "\n",
    "llm = ChatOllama(model=\"llama3.2:1b\")\n",
    "llm_tools = llm.bind_tools(tools)"
   ]
  },
  {
   "cell_type": "code",
   "execution_count": 12,
   "metadata": {},
   "outputs": [
    {
     "name": "stdout",
     "output_type": "stream",
     "text": [
      "[{'name': 'ExpenseSchema', 'args': {'amount': 1000, 'category': 'Food', 'date': '2024-12-01', 'description': 'Lunch at Banani'}, 'id': '6b95af04-07b0-4984-a59c-636d4e610a5b', 'type': 'tool_call'}]\n"
     ]
    }
   ],
   "source": [
    "res = llm_tools.invoke(\"spent 1000 taka on food at Banani on 2024-12-01\").tool_calls\n",
    "print(res)"
   ]
  },
  {
   "cell_type": "code",
   "execution_count": null,
   "metadata": {},
   "outputs": [],
   "source": []
  }
 ],
 "metadata": {
  "kernelspec": {
   "display_name": ".venv",
   "language": "python",
   "name": "python3"
  },
  "language_info": {
   "codemirror_mode": {
    "name": "ipython",
    "version": 3
   },
   "file_extension": ".py",
   "mimetype": "text/x-python",
   "name": "python",
   "nbconvert_exporter": "python",
   "pygments_lexer": "ipython3",
   "version": "3.12.6"
  }
 },
 "nbformat": 4,
 "nbformat_minor": 2
}
