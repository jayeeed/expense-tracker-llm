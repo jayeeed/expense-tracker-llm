{
 "cells": [
  {
   "cell_type": "code",
   "execution_count": 2,
   "metadata": {},
   "outputs": [
    {
     "data": {
      "text/plain": [
       "UpdateResult(operation_id=0, status=<UpdateStatus.COMPLETED: 'completed'>)"
      ]
     },
     "execution_count": 2,
     "metadata": {},
     "output_type": "execute_result"
    }
   ],
   "source": [
    "import os\n",
    "from qdrant_client import QdrantClient\n",
    "from qdrant_client.models import PointStruct\n",
    "\n",
    "URL = os.getenv(\"QDRANT_URL\")\n",
    "API_KEY = os.getenv(\"QDRANT_API_KEY\")\n",
    "COLLECTION_NAME = os.getenv(\"QDRANT_COLLECTION_NAME\")\n",
    "\n",
    "client = QdrantClient(url=URL, api_key=API_KEY)\n",
    "\n",
    "# Add multiple keys in payload\n",
    "points = [\n",
    "    PointStruct(\n",
    "        id=1,\n",
    "        vector=[0.1, 0.2, 0.3],  # Example vector\n",
    "        payload={\n",
    "            \"category\": \"news\",\n",
    "            \"timestamp\": \"2024-12-30T10:00:00Z\",\n",
    "            \"author\": \"Alice\",\n",
    "        },\n",
    "    ),\n",
    "    PointStruct(\n",
    "        id=2,\n",
    "        vector=[0.4, 0.5, 0.6],  # Example vector\n",
    "        payload={\n",
    "            \"category\": \"blog\",\n",
    "            \"timestamp\": \"2024-12-29T15:30:00Z\",\n",
    "            \"author\": \"Bob\",\n",
    "        },\n",
    "    ),\n",
    "]\n",
    "\n",
    "# Upsert points into Qdrant\n",
    "client.upsert(collection_name=\"test\", points=points)"
   ]
  },
  {
   "cell_type": "code",
   "execution_count": 5,
   "metadata": {},
   "outputs": [],
   "source": [
    "from qdrant_client.models import Filter, FieldCondition, MatchValue\n",
    "\n",
    "# Create a filter to search by multiple keys\n",
    "filter_query = Filter(\n",
    "    must=[\n",
    "        FieldCondition(key=\"category\", match=MatchValue(value=\"news\")),\n",
    "        FieldCondition(key=\"author\", match=MatchValue(value=\"Alice\")),\n",
    "    ]\n",
    ")\n",
    "\n",
    "# Search with the filter\n",
    "result = client.search(\n",
    "    collection_name=\"test\",\n",
    "    query_vector=[0.1, 0.2, 0.3],  # Query vector\n",
    ")"
   ]
  }
 ],
 "metadata": {
  "kernelspec": {
   "display_name": ".venv",
   "language": "python",
   "name": "python3"
  },
  "language_info": {
   "codemirror_mode": {
    "name": "ipython",
    "version": 3
   },
   "file_extension": ".py",
   "mimetype": "text/x-python",
   "name": "python",
   "nbconvert_exporter": "python",
   "pygments_lexer": "ipython3",
   "version": "3.12.6"
  }
 },
 "nbformat": 4,
 "nbformat_minor": 2
}
