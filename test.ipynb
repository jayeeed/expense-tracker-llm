{
 "cells": [
  {
   "cell_type": "code",
   "execution_count": 2,
   "metadata": {},
   "outputs": [
    {
     "data": {
      "text/plain": [
       "UpdateResult(operation_id=0, status=<UpdateStatus.COMPLETED: 'completed'>)"
      ]
     },
     "execution_count": 2,
     "metadata": {},
     "output_type": "execute_result"
    }
   ],
   "source": [
    "import os\n",
    "from qdrant_client import QdrantClient\n",
    "from qdrant_client.models import PointStruct\n",
    "\n",
    "URL = os.getenv(\"QDRANT_URL\")\n",
    "API_KEY = os.getenv(\"QDRANT_API_KEY\")\n",
    "COLLECTION_NAME = os.getenv(\"QDRANT_COLLECTION_NAME\")\n",
    "\n",
    "client = QdrantClient(url=URL, api_key=API_KEY)\n",
    "\n",
    "# Add multiple keys in payload\n",
    "points = [\n",
    "    PointStruct(\n",
    "        id=1,\n",
    "        vector=[0.1, 0.2, 0.3],  # Example vector\n",
    "        payload={\n",
    "            \"category\": \"news\",\n",
    "            \"timestamp\": \"2024-12-30T10:00:00Z\",\n",
    "            \"author\": \"Alice\",\n",
    "        },\n",
    "    ),\n",
    "    PointStruct(\n",
    "        id=2,\n",
    "        vector=[0.4, 0.5, 0.6],  # Example vector\n",
    "        payload={\n",
    "            \"category\": \"blog\",\n",
    "            \"timestamp\": \"2024-12-29T15:30:00Z\",\n",
    "            \"author\": \"Bob\",\n",
    "        },\n",
    "    ),\n",
    "]\n",
    "\n",
    "# Upsert points into Qdrant\n",
    "client.upsert(collection_name=\"test\", points=points)"
   ]
  },
  {
   "cell_type": "code",
   "execution_count": 5,
   "metadata": {},
   "outputs": [],
   "source": [
    "from qdrant_client.models import Filter, FieldCondition, MatchValue\n",
    "\n",
    "# Create a filter to search by multiple keys\n",
    "filter_query = Filter(\n",
    "    must=[\n",
    "        FieldCondition(key=\"category\", match=MatchValue(value=\"news\")),\n",
    "        FieldCondition(key=\"author\", match=MatchValue(value=\"Alice\")),\n",
    "    ]\n",
    ")\n",
    "\n",
    "# Search with the filter\n",
    "result = client.search(\n",
    "    collection_name=\"test\",\n",
    "    query_vector=[0.1, 0.2, 0.3],  # Query vector\n",
    ")"
   ]
  },
  {
   "cell_type": "code",
   "execution_count": 1,
   "metadata": {},
   "outputs": [],
   "source": [
    "from groq import Groq\n",
    "\n",
    "client = Groq()\n",
    "completion = client.chat.completions.create(\n",
    "    model=\"llama-3.3-70b-versatile\",\n",
    "    messages=[\n",
    "        {\"role\": \"user\", \"content\": \"hello\"},\n",
    "        {\n",
    "            \"role\": \"assistant\",\n",
    "            \"content\": \"Hello. It's nice to meet you. Is there something I can help you with or would you like to chat?\",\n",
    "        },\n",
    "    ],\n",
    "    temperature=1,\n",
    "    max_completion_tokens=1024,\n",
    "    top_p=1,\n",
    "    stream=True,\n",
    "    stop=None,\n",
    ")\n",
    "\n",
    "for chunk in completion:\n",
    "    print(chunk.choices[0].delta.content or \"\", end=\"\")"
   ]
  },
  {
   "cell_type": "code",
   "execution_count": 18,
   "metadata": {},
   "outputs": [],
   "source": [
    "from typing import Optional, List\n",
    "from typing_extensions import TypedDict\n",
    "\n",
    "\n",
    "class ExpenseSchema(TypedDict):\n",
    "    \"\"\"\n",
    "    Schema for representing an expense.\n",
    "    Attributes:\n",
    "        id (str): Unique identifier for the expense.\n",
    "        vector (List[float]): A list of numerical values associated with the expense.\n",
    "        date (str): The date of the expense in YYYY-MM-DD format.\n",
    "        amount (float): The amount of money spent in float format.\n",
    "        category (str): The category of the expense (e.g., food, travel, etc.).\n",
    "        description (Optional[str]): A brief description of the expense (optional).\n",
    "    \"\"\"\n",
    "\n",
    "    id: str\n",
    "    vector: List[float]\n",
    "    date: str\n",
    "    amount: float\n",
    "    category: str\n",
    "    description: Optional[str]\n",
    "\n",
    "\n",
    "class ExpenseCreate(ExpenseSchema):\n",
    "    pass\n",
    "\n",
    "\n",
    "tools = [ExpenseSchema]"
   ]
  },
  {
   "cell_type": "code",
   "execution_count": 38,
   "metadata": {},
   "outputs": [
    {
     "name": "stdout",
     "output_type": "stream",
     "text": [
      "{'id': '12345', 'vector': [1.0, 2.0, 3.0], 'date': '2022-01-01', 'amount': 100.0, 'category': 'food', 'description': 'Lunch at a restaurant'}\n"
     ]
    }
   ],
   "source": [
    "from langchain_groq import ChatGroq\n",
    "from PIL import Image\n",
    "import io, os\n",
    "import base64\n",
    "\n",
    "image_path = \"test_inv.png\"\n",
    "with open(image_path, \"rb\") as image_file:\n",
    "    image_data = base64.b64encode(image_file.read()).decode(\"utf-8\")\n",
    "\n",
    "API_KEY = os.getenv(\"GROQ_API_KEY\")\n",
    "\n",
    "llm_vision = ChatGroq(\n",
    "    api_key=API_KEY,\n",
    "    model=\"llama-3.2-11b-vision-preview\",\n",
    ")\n",
    "\n",
    "# Extract data from the image using the vision model with a text message\n",
    "response = llm_vision.with_structured_output(ExpenseSchema).invoke(input=image_data)\n",
    "\n",
    "# Print the extracted data\n",
    "print(response)"
   ]
  },
  {
   "cell_type": "code",
   "execution_count": 30,
   "metadata": {},
   "outputs": [
    {
     "name": "stdout",
     "output_type": "stream",
     "text": [
      "{'amount': 204.75, 'date': '11/02/2010', 'description': 'None', 'category': 'INVOICE'}\n"
     ]
    }
   ],
   "source": [
    "# Ensure the necessary imports are present\n",
    "from langchain_groq import ChatGroq\n",
    "from app.schemas import ExpenseSchema\n",
    "\n",
    "# Define the image URL\n",
    "IMAGE_DATA_URL = \"https://templates.invoicehome.com/invoice-template-en-neat-750px.png\"\n",
    "\n",
    "# Initialize the ChatGroq model\n",
    "llm_vision = ChatGroq(\n",
    "    model=\"llama-3.2-90b-vision-preview\",\n",
    ")\n",
    "\n",
    "# Define the input for the model\n",
    "input_data = [\n",
    "    {\n",
    "        \"role\": \"user\",\n",
    "        \"content\": [\n",
    "            {\n",
    "                \"type\": \"text\",\n",
    "                \"text\": \"only extract total expense as a list nothing extra:\\n    date: str\\n    amount: float\\n    category: str\\n    description: Optional[str]\",\n",
    "            },\n",
    "            {\n",
    "                \"type\": \"image_url\",\n",
    "                \"image_url\": {\"url\": IMAGE_DATA_URL},\n",
    "            },\n",
    "        ],\n",
    "    },\n",
    "]\n",
    "\n",
    "# Invoke the model with structured output\n",
    "completion = llm_vision.with_structured_output(ExpenseSchema).invoke(input=input_data)\n",
    "\n",
    "# Print the extracted data\n",
    "print(completion)"
   ]
  }
 ],
 "metadata": {
  "kernelspec": {
   "display_name": ".venv",
   "language": "python",
   "name": "python3"
  },
  "language_info": {
   "codemirror_mode": {
    "name": "ipython",
    "version": 3
   },
   "file_extension": ".py",
   "mimetype": "text/x-python",
   "name": "python",
   "nbconvert_exporter": "python",
   "pygments_lexer": "ipython3",
   "version": "3.12.8"
  }
 },
 "nbformat": 4,
 "nbformat_minor": 2
}
